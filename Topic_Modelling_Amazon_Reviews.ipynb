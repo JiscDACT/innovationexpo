{
 "cells": [
  {
   "cell_type": "markdown",
   "id": "05d4080e",
   "metadata": {},
   "source": [
    "# Topic Modelling Notebook to Illustrate the Qualkit Package"
   ]
  },
  {
   "cell_type": "markdown",
   "id": "13feeaae",
   "metadata": {},
   "source": [
    "Due to data confidentiality we cannot demo the code using the DEI data, therefore Amazon Review data was chosen as the closest type of data to survey responses. Individuals write reviews to express opinions and describe their experiences regarding products on the Amazon.com website.\n",
    "\n",
    "Data for this demo obtained from [Kaggle](https://www.kaggle.com/datafiniti/consumer-reviews-of-amazon-products)\n",
    "\n",
    "Full documentation for Qualkit available from the [GitHub Repository](https://github.com/JiscDACT/qualkit)"
   ]
  },
  {
   "cell_type": "code",
   "execution_count": 1,
   "id": "b2085576",
   "metadata": {},
   "outputs": [],
   "source": [
    "import warnings\n",
    "warnings.filterwarnings('ignore')\n",
    "\n",
    "#warnings.warn(msg, category=FutureWarning)\n",
    "#To keep the demo clean"
   ]
  },
  {
   "cell_type": "markdown",
   "id": "62845b31",
   "metadata": {},
   "source": [
    "## 1. Data Setup"
   ]
  },
  {
   "cell_type": "code",
   "execution_count": 2,
   "id": "59595e46",
   "metadata": {},
   "outputs": [
    {
     "name": "stderr",
     "output_type": "stream",
     "text": [
      "[nltk_data] Downloading package wordnet to\n",
      "[nltk_data]     C:\\Users\\jennifer.cooper\\AppData\\Roaming\\nltk_data...\n",
      "[nltk_data]   Package wordnet is already up-to-date!\n",
      "[nltk_data] Downloading package punkt to\n",
      "[nltk_data]     C:\\Users\\jennifer.cooper\\AppData\\Roaming\\nltk_data...\n",
      "[nltk_data]   Package punkt is already up-to-date!\n",
      "[nltk_data] Downloading package averaged_perceptron_tagger to\n",
      "[nltk_data]     C:\\Users\\jennifer.cooper\\AppData\\Roaming\\nltk_data...\n",
      "[nltk_data]   Package averaged_perceptron_tagger is already up-to-\n",
      "[nltk_data]       date!\n",
      "[nltk_data] Downloading package wordnet to\n",
      "[nltk_data]     C:\\Users\\jennifer.cooper\\AppData\\Roaming\\nltk_data...\n",
      "[nltk_data]   Package wordnet is already up-to-date!\n",
      "[nltk_data] Downloading package stopwords to\n",
      "[nltk_data]     C:\\Users\\jennifer.cooper\\AppData\\Roaming\\nltk_data...\n",
      "[nltk_data]   Package stopwords is already up-to-date!\n"
     ]
    }
   ],
   "source": [
    "#Import the following Packages\n",
    "\n",
    "from qualkit import clean\n",
    "from qualkit.anchored_topic_model import anchored_topic_model, topic_metrics\n",
    "import pandas as pd\n",
    "import matplotlib.pyplot as plt\n",
    "import numpy as np\n",
    "\n",
    "#FYI needed to run this in Jupyter notebooks version\n",
    "import nltk\n",
    "#nltk.download('omw-1.4')"
   ]
  },
  {
   "cell_type": "markdown",
   "id": "75aceb6a",
   "metadata": {},
   "source": [
    "Read in the CSV data"
   ]
  },
  {
   "cell_type": "code",
   "execution_count": 3,
   "id": "a861cf42",
   "metadata": {},
   "outputs": [],
   "source": [
    "df = pd.read_csv(\"Datafiniti_Amazon_Consumer_Reviews_of_Amazon_Products_May19.csv\")"
   ]
  },
  {
   "cell_type": "code",
   "execution_count": 4,
   "id": "9140938d",
   "metadata": {},
   "outputs": [
    {
     "data": {
      "text/plain": [
       "(28332, 24)"
      ]
     },
     "execution_count": 4,
     "metadata": {},
     "output_type": "execute_result"
    }
   ],
   "source": [
    "df.shape"
   ]
  },
  {
   "cell_type": "markdown",
   "id": "a6554155",
   "metadata": {},
   "source": [
    "The data contains lots of different types of Amazon products"
   ]
  },
  {
   "cell_type": "code",
   "execution_count": 5,
   "id": "c5fe9669",
   "metadata": {},
   "outputs": [
    {
     "data": {
      "text/html": [
       "<div>\n",
       "<style scoped>\n",
       "    .dataframe tbody tr th:only-of-type {\n",
       "        vertical-align: middle;\n",
       "    }\n",
       "\n",
       "    .dataframe tbody tr th {\n",
       "        vertical-align: top;\n",
       "    }\n",
       "\n",
       "    .dataframe thead th {\n",
       "        text-align: right;\n",
       "    }\n",
       "</style>\n",
       "<table border=\"1\" class=\"dataframe\">\n",
       "  <thead>\n",
       "    <tr style=\"text-align: right;\">\n",
       "      <th></th>\n",
       "      <th>id</th>\n",
       "      <th>dateAdded</th>\n",
       "      <th>dateUpdated</th>\n",
       "      <th>name</th>\n",
       "      <th>asins</th>\n",
       "      <th>brand</th>\n",
       "      <th>categories</th>\n",
       "      <th>primaryCategories</th>\n",
       "      <th>imageURLs</th>\n",
       "      <th>keys</th>\n",
       "      <th>...</th>\n",
       "      <th>reviews.didPurchase</th>\n",
       "      <th>reviews.doRecommend</th>\n",
       "      <th>reviews.id</th>\n",
       "      <th>reviews.numHelpful</th>\n",
       "      <th>reviews.rating</th>\n",
       "      <th>reviews.sourceURLs</th>\n",
       "      <th>reviews.text</th>\n",
       "      <th>reviews.title</th>\n",
       "      <th>reviews.username</th>\n",
       "      <th>sourceURLs</th>\n",
       "    </tr>\n",
       "  </thead>\n",
       "  <tbody>\n",
       "    <tr>\n",
       "      <th>0</th>\n",
       "      <td>AVpgNzjwLJeJML43Kpxn</td>\n",
       "      <td>2015-10-30T08:59:32Z</td>\n",
       "      <td>2019-04-25T09:08:16Z</td>\n",
       "      <td>AmazonBasics AAA Performance Alkaline Batterie...</td>\n",
       "      <td>B00QWO9P0O,B00LH3DMUO</td>\n",
       "      <td>Amazonbasics</td>\n",
       "      <td>AA,AAA,Health,Electronics,Health &amp; Household,C...</td>\n",
       "      <td>Health &amp; Beauty</td>\n",
       "      <td>https://images-na.ssl-images-amazon.com/images...</td>\n",
       "      <td>amazonbasics/hl002619,amazonbasicsaaaperforman...</td>\n",
       "      <td>...</td>\n",
       "      <td>NaN</td>\n",
       "      <td>NaN</td>\n",
       "      <td>NaN</td>\n",
       "      <td>NaN</td>\n",
       "      <td>3</td>\n",
       "      <td>https://www.amazon.com/product-reviews/B00QWO9...</td>\n",
       "      <td>I order 3 of them and one of the item is bad q...</td>\n",
       "      <td>... 3 of them and one of the item is bad quali...</td>\n",
       "      <td>Byger yang</td>\n",
       "      <td>https://www.barcodable.com/upc/841710106442,ht...</td>\n",
       "    </tr>\n",
       "    <tr>\n",
       "      <th>1</th>\n",
       "      <td>AVpgNzjwLJeJML43Kpxn</td>\n",
       "      <td>2015-10-30T08:59:32Z</td>\n",
       "      <td>2019-04-25T09:08:16Z</td>\n",
       "      <td>AmazonBasics AAA Performance Alkaline Batterie...</td>\n",
       "      <td>B00QWO9P0O,B00LH3DMUO</td>\n",
       "      <td>Amazonbasics</td>\n",
       "      <td>AA,AAA,Health,Electronics,Health &amp; Household,C...</td>\n",
       "      <td>Health &amp; Beauty</td>\n",
       "      <td>https://images-na.ssl-images-amazon.com/images...</td>\n",
       "      <td>amazonbasics/hl002619,amazonbasicsaaaperforman...</td>\n",
       "      <td>...</td>\n",
       "      <td>NaN</td>\n",
       "      <td>NaN</td>\n",
       "      <td>NaN</td>\n",
       "      <td>NaN</td>\n",
       "      <td>4</td>\n",
       "      <td>https://www.amazon.com/product-reviews/B00QWO9...</td>\n",
       "      <td>Bulk is always the less expensive way to go fo...</td>\n",
       "      <td>... always the less expensive way to go for pr...</td>\n",
       "      <td>ByMG</td>\n",
       "      <td>https://www.barcodable.com/upc/841710106442,ht...</td>\n",
       "    </tr>\n",
       "    <tr>\n",
       "      <th>2</th>\n",
       "      <td>AVpgNzjwLJeJML43Kpxn</td>\n",
       "      <td>2015-10-30T08:59:32Z</td>\n",
       "      <td>2019-04-25T09:08:16Z</td>\n",
       "      <td>AmazonBasics AAA Performance Alkaline Batterie...</td>\n",
       "      <td>B00QWO9P0O,B00LH3DMUO</td>\n",
       "      <td>Amazonbasics</td>\n",
       "      <td>AA,AAA,Health,Electronics,Health &amp; Household,C...</td>\n",
       "      <td>Health &amp; Beauty</td>\n",
       "      <td>https://images-na.ssl-images-amazon.com/images...</td>\n",
       "      <td>amazonbasics/hl002619,amazonbasicsaaaperforman...</td>\n",
       "      <td>...</td>\n",
       "      <td>NaN</td>\n",
       "      <td>NaN</td>\n",
       "      <td>NaN</td>\n",
       "      <td>NaN</td>\n",
       "      <td>5</td>\n",
       "      <td>https://www.amazon.com/product-reviews/B00QWO9...</td>\n",
       "      <td>Well they are not Duracell but for the price i...</td>\n",
       "      <td>... are not Duracell but for the price i am ha...</td>\n",
       "      <td>BySharon Lambert</td>\n",
       "      <td>https://www.barcodable.com/upc/841710106442,ht...</td>\n",
       "    </tr>\n",
       "    <tr>\n",
       "      <th>3</th>\n",
       "      <td>AVpgNzjwLJeJML43Kpxn</td>\n",
       "      <td>2015-10-30T08:59:32Z</td>\n",
       "      <td>2019-04-25T09:08:16Z</td>\n",
       "      <td>AmazonBasics AAA Performance Alkaline Batterie...</td>\n",
       "      <td>B00QWO9P0O,B00LH3DMUO</td>\n",
       "      <td>Amazonbasics</td>\n",
       "      <td>AA,AAA,Health,Electronics,Health &amp; Household,C...</td>\n",
       "      <td>Health &amp; Beauty</td>\n",
       "      <td>https://images-na.ssl-images-amazon.com/images...</td>\n",
       "      <td>amazonbasics/hl002619,amazonbasicsaaaperforman...</td>\n",
       "      <td>...</td>\n",
       "      <td>NaN</td>\n",
       "      <td>NaN</td>\n",
       "      <td>NaN</td>\n",
       "      <td>NaN</td>\n",
       "      <td>5</td>\n",
       "      <td>https://www.amazon.com/product-reviews/B00QWO9...</td>\n",
       "      <td>Seem to work as well as name brand batteries a...</td>\n",
       "      <td>... as well as name brand batteries at a much ...</td>\n",
       "      <td>Bymark sexson</td>\n",
       "      <td>https://www.barcodable.com/upc/841710106442,ht...</td>\n",
       "    </tr>\n",
       "    <tr>\n",
       "      <th>4</th>\n",
       "      <td>AVpgNzjwLJeJML43Kpxn</td>\n",
       "      <td>2015-10-30T08:59:32Z</td>\n",
       "      <td>2019-04-25T09:08:16Z</td>\n",
       "      <td>AmazonBasics AAA Performance Alkaline Batterie...</td>\n",
       "      <td>B00QWO9P0O,B00LH3DMUO</td>\n",
       "      <td>Amazonbasics</td>\n",
       "      <td>AA,AAA,Health,Electronics,Health &amp; Household,C...</td>\n",
       "      <td>Health &amp; Beauty</td>\n",
       "      <td>https://images-na.ssl-images-amazon.com/images...</td>\n",
       "      <td>amazonbasics/hl002619,amazonbasicsaaaperforman...</td>\n",
       "      <td>...</td>\n",
       "      <td>NaN</td>\n",
       "      <td>NaN</td>\n",
       "      <td>NaN</td>\n",
       "      <td>NaN</td>\n",
       "      <td>5</td>\n",
       "      <td>https://www.amazon.com/product-reviews/B00QWO9...</td>\n",
       "      <td>These batteries are very long lasting the pric...</td>\n",
       "      <td>... batteries are very long lasting the price ...</td>\n",
       "      <td>Bylinda</td>\n",
       "      <td>https://www.barcodable.com/upc/841710106442,ht...</td>\n",
       "    </tr>\n",
       "  </tbody>\n",
       "</table>\n",
       "<p>5 rows × 24 columns</p>\n",
       "</div>"
      ],
      "text/plain": [
       "                     id             dateAdded           dateUpdated  \\\n",
       "0  AVpgNzjwLJeJML43Kpxn  2015-10-30T08:59:32Z  2019-04-25T09:08:16Z   \n",
       "1  AVpgNzjwLJeJML43Kpxn  2015-10-30T08:59:32Z  2019-04-25T09:08:16Z   \n",
       "2  AVpgNzjwLJeJML43Kpxn  2015-10-30T08:59:32Z  2019-04-25T09:08:16Z   \n",
       "3  AVpgNzjwLJeJML43Kpxn  2015-10-30T08:59:32Z  2019-04-25T09:08:16Z   \n",
       "4  AVpgNzjwLJeJML43Kpxn  2015-10-30T08:59:32Z  2019-04-25T09:08:16Z   \n",
       "\n",
       "                                                name                  asins  \\\n",
       "0  AmazonBasics AAA Performance Alkaline Batterie...  B00QWO9P0O,B00LH3DMUO   \n",
       "1  AmazonBasics AAA Performance Alkaline Batterie...  B00QWO9P0O,B00LH3DMUO   \n",
       "2  AmazonBasics AAA Performance Alkaline Batterie...  B00QWO9P0O,B00LH3DMUO   \n",
       "3  AmazonBasics AAA Performance Alkaline Batterie...  B00QWO9P0O,B00LH3DMUO   \n",
       "4  AmazonBasics AAA Performance Alkaline Batterie...  B00QWO9P0O,B00LH3DMUO   \n",
       "\n",
       "          brand                                         categories  \\\n",
       "0  Amazonbasics  AA,AAA,Health,Electronics,Health & Household,C...   \n",
       "1  Amazonbasics  AA,AAA,Health,Electronics,Health & Household,C...   \n",
       "2  Amazonbasics  AA,AAA,Health,Electronics,Health & Household,C...   \n",
       "3  Amazonbasics  AA,AAA,Health,Electronics,Health & Household,C...   \n",
       "4  Amazonbasics  AA,AAA,Health,Electronics,Health & Household,C...   \n",
       "\n",
       "  primaryCategories                                          imageURLs  \\\n",
       "0   Health & Beauty  https://images-na.ssl-images-amazon.com/images...   \n",
       "1   Health & Beauty  https://images-na.ssl-images-amazon.com/images...   \n",
       "2   Health & Beauty  https://images-na.ssl-images-amazon.com/images...   \n",
       "3   Health & Beauty  https://images-na.ssl-images-amazon.com/images...   \n",
       "4   Health & Beauty  https://images-na.ssl-images-amazon.com/images...   \n",
       "\n",
       "                                                keys  ... reviews.didPurchase  \\\n",
       "0  amazonbasics/hl002619,amazonbasicsaaaperforman...  ...                 NaN   \n",
       "1  amazonbasics/hl002619,amazonbasicsaaaperforman...  ...                 NaN   \n",
       "2  amazonbasics/hl002619,amazonbasicsaaaperforman...  ...                 NaN   \n",
       "3  amazonbasics/hl002619,amazonbasicsaaaperforman...  ...                 NaN   \n",
       "4  amazonbasics/hl002619,amazonbasicsaaaperforman...  ...                 NaN   \n",
       "\n",
       "  reviews.doRecommend reviews.id reviews.numHelpful reviews.rating  \\\n",
       "0                 NaN        NaN                NaN              3   \n",
       "1                 NaN        NaN                NaN              4   \n",
       "2                 NaN        NaN                NaN              5   \n",
       "3                 NaN        NaN                NaN              5   \n",
       "4                 NaN        NaN                NaN              5   \n",
       "\n",
       "                                  reviews.sourceURLs  \\\n",
       "0  https://www.amazon.com/product-reviews/B00QWO9...   \n",
       "1  https://www.amazon.com/product-reviews/B00QWO9...   \n",
       "2  https://www.amazon.com/product-reviews/B00QWO9...   \n",
       "3  https://www.amazon.com/product-reviews/B00QWO9...   \n",
       "4  https://www.amazon.com/product-reviews/B00QWO9...   \n",
       "\n",
       "                                        reviews.text  \\\n",
       "0  I order 3 of them and one of the item is bad q...   \n",
       "1  Bulk is always the less expensive way to go fo...   \n",
       "2  Well they are not Duracell but for the price i...   \n",
       "3  Seem to work as well as name brand batteries a...   \n",
       "4  These batteries are very long lasting the pric...   \n",
       "\n",
       "                                       reviews.title  reviews.username  \\\n",
       "0  ... 3 of them and one of the item is bad quali...        Byger yang   \n",
       "1  ... always the less expensive way to go for pr...              ByMG   \n",
       "2  ... are not Duracell but for the price i am ha...  BySharon Lambert   \n",
       "3  ... as well as name brand batteries at a much ...     Bymark sexson   \n",
       "4  ... batteries are very long lasting the price ...           Bylinda   \n",
       "\n",
       "                                          sourceURLs  \n",
       "0  https://www.barcodable.com/upc/841710106442,ht...  \n",
       "1  https://www.barcodable.com/upc/841710106442,ht...  \n",
       "2  https://www.barcodable.com/upc/841710106442,ht...  \n",
       "3  https://www.barcodable.com/upc/841710106442,ht...  \n",
       "4  https://www.barcodable.com/upc/841710106442,ht...  \n",
       "\n",
       "[5 rows x 24 columns]"
      ]
     },
     "execution_count": 5,
     "metadata": {},
     "output_type": "execute_result"
    }
   ],
   "source": [
    "df.head()"
   ]
  },
  {
   "cell_type": "markdown",
   "id": "bbda3af4",
   "metadata": {},
   "source": [
    "Subset the data to focus on the reviews of one particular product\n",
    "\n",
    "![alt text](firehd.png \"Amazon Tablet\")\n"
   ]
  },
  {
   "cell_type": "code",
   "execution_count": 6,
   "id": "85b3771c",
   "metadata": {},
   "outputs": [],
   "source": [
    "fire_df = df[df['name'].str.contains(\"Fire HD 8 Tablet with Alexa, 8 HD Display, 16 GB, Tangerine - with Special Offers\")]\n",
    "\n",
    "fire_df = fire_df[[\"reviews.rating\", \"reviews.title\", \"reviews.text\"]]\n"
   ]
  },
  {
   "cell_type": "code",
   "execution_count": 7,
   "id": "c57e7187",
   "metadata": {},
   "outputs": [
    {
     "data": {
      "text/html": [
       "<div>\n",
       "<style scoped>\n",
       "    .dataframe tbody tr th:only-of-type {\n",
       "        vertical-align: middle;\n",
       "    }\n",
       "\n",
       "    .dataframe tbody tr th {\n",
       "        vertical-align: top;\n",
       "    }\n",
       "\n",
       "    .dataframe thead th {\n",
       "        text-align: right;\n",
       "    }\n",
       "</style>\n",
       "<table border=\"1\" class=\"dataframe\">\n",
       "  <thead>\n",
       "    <tr style=\"text-align: right;\">\n",
       "      <th></th>\n",
       "      <th>reviews.rating</th>\n",
       "      <th>reviews.title</th>\n",
       "      <th>reviews.text</th>\n",
       "    </tr>\n",
       "  </thead>\n",
       "  <tbody>\n",
       "    <tr>\n",
       "      <th>25889</th>\n",
       "      <td>5</td>\n",
       "      <td>. Nice hand sized tablet</td>\n",
       "      <td>While there are some apps that are missing due...</td>\n",
       "    </tr>\n",
       "    <tr>\n",
       "      <th>25890</th>\n",
       "      <td>4</td>\n",
       "      <td>2nd purchase</td>\n",
       "      <td>I bought one last year for one cousin and had ...</td>\n",
       "    </tr>\n",
       "    <tr>\n",
       "      <th>25891</th>\n",
       "      <td>4</td>\n",
       "      <td>3rd time is the charm</td>\n",
       "      <td>I will try again for the 3rd time with my new ...</td>\n",
       "    </tr>\n",
       "    <tr>\n",
       "      <th>25892</th>\n",
       "      <td>5</td>\n",
       "      <td>5 star service</td>\n",
       "      <td>bought this for my father, who never did much ...</td>\n",
       "    </tr>\n",
       "    <tr>\n",
       "      <th>25893</th>\n",
       "      <td>5</td>\n",
       "      <td>7 year old granddaughter loves it</td>\n",
       "      <td>This was a request from our 7 yr old granddaug...</td>\n",
       "    </tr>\n",
       "  </tbody>\n",
       "</table>\n",
       "</div>"
      ],
      "text/plain": [
       "       reviews.rating                      reviews.title  \\\n",
       "25889               5           . Nice hand sized tablet   \n",
       "25890               4                       2nd purchase   \n",
       "25891               4              3rd time is the charm   \n",
       "25892               5                     5 star service   \n",
       "25893               5  7 year old granddaughter loves it   \n",
       "\n",
       "                                            reviews.text  \n",
       "25889  While there are some apps that are missing due...  \n",
       "25890  I bought one last year for one cousin and had ...  \n",
       "25891  I will try again for the 3rd time with my new ...  \n",
       "25892  bought this for my father, who never did much ...  \n",
       "25893  This was a request from our 7 yr old granddaug...  "
      ]
     },
     "execution_count": 7,
     "metadata": {},
     "output_type": "execute_result"
    }
   ],
   "source": [
    "fire_df.head()"
   ]
  },
  {
   "cell_type": "markdown",
   "id": "a812872f",
   "metadata": {},
   "source": [
    "Adding a few 'dont knows' or 'couldnt say' and blanks into this dataframe to illustrate how Qualkit functions can be used to clean this up"
   ]
  },
  {
   "cell_type": "code",
   "execution_count": 8,
   "id": "00f04df1",
   "metadata": {},
   "outputs": [],
   "source": [
    "unhelpful_responses = pd.DataFrame({\"reviews.rating\":[1, 3, 5],\n",
    "                    \"reviews.title\":[\"It is ok\", \"Not sure\", \" \"],\n",
    "                    \"reviews.text\":[\"I dont know\",\"I cant think of anything\",\" \"]})\n",
    "\n",
    "fire_df = fire_df.append(unhelpful_responses).reset_index()"
   ]
  },
  {
   "cell_type": "code",
   "execution_count": 9,
   "id": "22b33dae",
   "metadata": {},
   "outputs": [
    {
     "data": {
      "text/html": [
       "<div>\n",
       "<style scoped>\n",
       "    .dataframe tbody tr th:only-of-type {\n",
       "        vertical-align: middle;\n",
       "    }\n",
       "\n",
       "    .dataframe tbody tr th {\n",
       "        vertical-align: top;\n",
       "    }\n",
       "\n",
       "    .dataframe thead th {\n",
       "        text-align: right;\n",
       "    }\n",
       "</style>\n",
       "<table border=\"1\" class=\"dataframe\">\n",
       "  <thead>\n",
       "    <tr style=\"text-align: right;\">\n",
       "      <th></th>\n",
       "      <th>index</th>\n",
       "      <th>reviews.rating</th>\n",
       "      <th>reviews.title</th>\n",
       "      <th>reviews.text</th>\n",
       "    </tr>\n",
       "  </thead>\n",
       "  <tbody>\n",
       "    <tr>\n",
       "      <th>2436</th>\n",
       "      <td>28325</td>\n",
       "      <td>5</td>\n",
       "      <td>wow, over the top happy</td>\n",
       "      <td>its fast, it has good lighting. its got the 16...</td>\n",
       "    </tr>\n",
       "    <tr>\n",
       "      <th>2437</th>\n",
       "      <td>28326</td>\n",
       "      <td>5</td>\n",
       "      <td>Wow!</td>\n",
       "      <td>Where do I begin...good clarity, I love the si...</td>\n",
       "    </tr>\n",
       "    <tr>\n",
       "      <th>2438</th>\n",
       "      <td>28327</td>\n",
       "      <td>5</td>\n",
       "      <td>Xmas gift</td>\n",
       "      <td>I got 2 of these for my 8 yr old twins. My 11 ...</td>\n",
       "    </tr>\n",
       "    <tr>\n",
       "      <th>2439</th>\n",
       "      <td>28328</td>\n",
       "      <td>4</td>\n",
       "      <td>yes it is a great tablet.</td>\n",
       "      <td>I bought this for my niece for a Christmas gif...</td>\n",
       "    </tr>\n",
       "    <tr>\n",
       "      <th>2440</th>\n",
       "      <td>28329</td>\n",
       "      <td>5</td>\n",
       "      <td>You get a lot for the price!</td>\n",
       "      <td>Very nice for light internet browsing, keeping...</td>\n",
       "    </tr>\n",
       "    <tr>\n",
       "      <th>2441</th>\n",
       "      <td>28330</td>\n",
       "      <td>5</td>\n",
       "      <td>You get the entire World for less than $100!</td>\n",
       "      <td>This Tablet does absolutely everything I want!...</td>\n",
       "    </tr>\n",
       "    <tr>\n",
       "      <th>2442</th>\n",
       "      <td>28331</td>\n",
       "      <td>4</td>\n",
       "      <td>You get what your paying for</td>\n",
       "      <td>At ninety dollars, the expectionations are low...</td>\n",
       "    </tr>\n",
       "    <tr>\n",
       "      <th>2443</th>\n",
       "      <td>0</td>\n",
       "      <td>1</td>\n",
       "      <td>It is ok</td>\n",
       "      <td>I dont know</td>\n",
       "    </tr>\n",
       "    <tr>\n",
       "      <th>2444</th>\n",
       "      <td>1</td>\n",
       "      <td>3</td>\n",
       "      <td>Not sure</td>\n",
       "      <td>I cant think of anything</td>\n",
       "    </tr>\n",
       "    <tr>\n",
       "      <th>2445</th>\n",
       "      <td>2</td>\n",
       "      <td>5</td>\n",
       "      <td></td>\n",
       "      <td></td>\n",
       "    </tr>\n",
       "  </tbody>\n",
       "</table>\n",
       "</div>"
      ],
      "text/plain": [
       "      index  reviews.rating                                 reviews.title  \\\n",
       "2436  28325               5                       wow, over the top happy   \n",
       "2437  28326               5                                          Wow!   \n",
       "2438  28327               5                                     Xmas gift   \n",
       "2439  28328               4                     yes it is a great tablet.   \n",
       "2440  28329               5                  You get a lot for the price!   \n",
       "2441  28330               5  You get the entire World for less than $100!   \n",
       "2442  28331               4                  You get what your paying for   \n",
       "2443      0               1                                      It is ok   \n",
       "2444      1               3                                      Not sure   \n",
       "2445      2               5                                                 \n",
       "\n",
       "                                           reviews.text  \n",
       "2436  its fast, it has good lighting. its got the 16...  \n",
       "2437  Where do I begin...good clarity, I love the si...  \n",
       "2438  I got 2 of these for my 8 yr old twins. My 11 ...  \n",
       "2439  I bought this for my niece for a Christmas gif...  \n",
       "2440  Very nice for light internet browsing, keeping...  \n",
       "2441  This Tablet does absolutely everything I want!...  \n",
       "2442  At ninety dollars, the expectionations are low...  \n",
       "2443                                        I dont know  \n",
       "2444                           I cant think of anything  \n",
       "2445                                                     "
      ]
     },
     "execution_count": 9,
     "metadata": {},
     "output_type": "execute_result"
    }
   ],
   "source": [
    "fire_df.iloc[-10:]"
   ]
  },
  {
   "cell_type": "code",
   "execution_count": 11,
   "id": "16833554",
   "metadata": {},
   "outputs": [
    {
     "data": {
      "text/plain": [
       "(2446, 4)"
      ]
     },
     "execution_count": 11,
     "metadata": {},
     "output_type": "execute_result"
    }
   ],
   "source": [
    "fire_df.shape"
   ]
  },
  {
   "cell_type": "markdown",
   "id": "3957d835",
   "metadata": {},
   "source": [
    "## 2. Qualkit Functions: Cleanup"
   ]
  },
  {
   "cell_type": "markdown",
   "id": "e76c434f",
   "metadata": {},
   "source": [
    "The 'clean' function is a utility for cleaning up text prior to use with other tools.\n",
    "* Change case to lowercase\n",
    "* Remove apostrophes\n",
    "* Replace punctuation with spaces\n",
    "* Remove duplicate whitespace\n",
    "* Remove spaces at the start and end of a string\n",
    "* Replace domain-specific synonyms with their generic terms"
   ]
  },
  {
   "cell_type": "code",
   "execution_count": 13,
   "id": "9ada1dac",
   "metadata": {},
   "outputs": [],
   "source": [
    "questions = ['reviews.text'] #Replace this with column name containing review/survey data\n",
    "fire_df = clean.clean(fire_df, questions, inplace=False) #False keeps OG quotes"
   ]
  },
  {
   "cell_type": "code",
   "execution_count": 14,
   "id": "0570f7aa",
   "metadata": {},
   "outputs": [
    {
     "data": {
      "text/plain": [
       "(2446, 5)"
      ]
     },
     "execution_count": 14,
     "metadata": {},
     "output_type": "execute_result"
    }
   ],
   "source": [
    "fire_df.shape"
   ]
  },
  {
   "cell_type": "markdown",
   "id": "e464a022",
   "metadata": {},
   "source": [
    "We have an extra column with the original data"
   ]
  },
  {
   "cell_type": "code",
   "execution_count": 15,
   "id": "a2a9bda9",
   "metadata": {},
   "outputs": [
    {
     "data": {
      "text/plain": [
       "50"
      ]
     },
     "execution_count": 15,
     "metadata": {},
     "output_type": "execute_result"
    }
   ],
   "source": [
    "pd.options.display.max_colwidth"
   ]
  },
  {
   "cell_type": "code",
   "execution_count": 16,
   "id": "619bbba5",
   "metadata": {},
   "outputs": [],
   "source": [
    "pd.options.display.max_colwidth = 500"
   ]
  },
  {
   "cell_type": "code",
   "execution_count": 18,
   "id": "75a23bca",
   "metadata": {},
   "outputs": [
    {
     "data": {
      "text/html": [
       "<div>\n",
       "<style scoped>\n",
       "    .dataframe tbody tr th:only-of-type {\n",
       "        vertical-align: middle;\n",
       "    }\n",
       "\n",
       "    .dataframe tbody tr th {\n",
       "        vertical-align: top;\n",
       "    }\n",
       "\n",
       "    .dataframe thead th {\n",
       "        text-align: right;\n",
       "    }\n",
       "</style>\n",
       "<table border=\"1\" class=\"dataframe\">\n",
       "  <thead>\n",
       "    <tr style=\"text-align: right;\">\n",
       "      <th></th>\n",
       "      <th>index</th>\n",
       "      <th>reviews.rating</th>\n",
       "      <th>reviews.title</th>\n",
       "      <th>reviews.text</th>\n",
       "      <th>cleaned</th>\n",
       "    </tr>\n",
       "  </thead>\n",
       "  <tbody>\n",
       "    <tr>\n",
       "      <th>0</th>\n",
       "      <td>25889</td>\n",
       "      <td>5</td>\n",
       "      <td>. Nice hand sized tablet</td>\n",
       "      <td>While there are some apps that are missing due to not using the Google Play Store the list is minimal. The tablet itself is quick, responsive, and noticeable nicer than the 7\" fire. Picked this up when it was on sale for black friday sales. It's great for in front of the TV and catching up on email and light web browsing.</td>\n",
       "      <td>while there are some apps that are missing due to not using the google play store the list is minimal  the tablet itself is quick  responsive  and noticeable nicer than the    fire  picked this up when it was on sale for black friday sales  its great for in front of the tv and catching up on email and light web browsing</td>\n",
       "    </tr>\n",
       "    <tr>\n",
       "      <th>1</th>\n",
       "      <td>25890</td>\n",
       "      <td>4</td>\n",
       "      <td>2nd purchase</td>\n",
       "      <td>I bought one last year for one cousin and had to continue for another this year. Great buy imo.</td>\n",
       "      <td>i bought one last year for one cousin and had to continue for another this year  great buy imo</td>\n",
       "    </tr>\n",
       "    <tr>\n",
       "      <th>2</th>\n",
       "      <td>25891</td>\n",
       "      <td>4</td>\n",
       "      <td>3rd time is the charm</td>\n",
       "      <td>I will try again for the 3rd time with my new Amazon Fire. It seems to have nice upgrades.</td>\n",
       "      <td>i will try again for the  rd time with my new amazon fire  it seems to have nice upgrades</td>\n",
       "    </tr>\n",
       "    <tr>\n",
       "      <th>3</th>\n",
       "      <td>25892</td>\n",
       "      <td>5</td>\n",
       "      <td>5 star service</td>\n",
       "      <td>bought this for my father, who never did much on computers and was not sure he would actually use this. He unwrapped it, asked for some games to be downloaded and hasn't looked back! He has used the internet as well as the game apps and couldn't be happier.</td>\n",
       "      <td>bought this for my father  who never did much on computers and was not sure he would actually use this  he unwrapped it  asked for some games to be downloaded and hasnt looked back  he has used the internet as well as the game apps and couldnt be happier</td>\n",
       "    </tr>\n",
       "    <tr>\n",
       "      <th>4</th>\n",
       "      <td>25893</td>\n",
       "      <td>5</td>\n",
       "      <td>7 year old granddaughter loves it</td>\n",
       "      <td>This was a request from our 7 yr old granddaugter who had always asked her older sister if she could share hers due to we bought this same tablet/size a few yrs earlier. Loved the security/parental control options.Starfall a favorite educational app were told is a must have. Really enjoy Pics/Viber due to their in a different state. Also some games on a time limit. Size and resolution are perfect.</td>\n",
       "      <td>this was a request from our   yr old granddaugter who had always asked her older sister if she could share hers due to we bought this same tablet size a few yrs earlier  loved the security parental control options starfall a favorite educational app were told is a must have  really enjoy pics viber due to their in a different state  also some games on a time limit  size and resolution are perfect</td>\n",
       "    </tr>\n",
       "  </tbody>\n",
       "</table>\n",
       "</div>"
      ],
      "text/plain": [
       "   index  reviews.rating                      reviews.title  \\\n",
       "0  25889               5           . Nice hand sized tablet   \n",
       "1  25890               4                       2nd purchase   \n",
       "2  25891               4              3rd time is the charm   \n",
       "3  25892               5                     5 star service   \n",
       "4  25893               5  7 year old granddaughter loves it   \n",
       "\n",
       "                                                                                                                                                                                                                                                                                                                                                                                                       reviews.text  \\\n",
       "0                                                                               While there are some apps that are missing due to not using the Google Play Store the list is minimal. The tablet itself is quick, responsive, and noticeable nicer than the 7\" fire. Picked this up when it was on sale for black friday sales. It's great for in front of the TV and catching up on email and light web browsing.   \n",
       "1                                                                                                                                                                                                                                                                                                                   I bought one last year for one cousin and had to continue for another this year. Great buy imo.   \n",
       "2                                                                                                                                                                                                                                                                                                                        I will try again for the 3rd time with my new Amazon Fire. It seems to have nice upgrades.   \n",
       "3                                                                                                                                                 bought this for my father, who never did much on computers and was not sure he would actually use this. He unwrapped it, asked for some games to be downloaded and hasn't looked back! He has used the internet as well as the game apps and couldn't be happier.   \n",
       "4  This was a request from our 7 yr old granddaugter who had always asked her older sister if she could share hers due to we bought this same tablet/size a few yrs earlier. Loved the security/parental control options.Starfall a favorite educational app were told is a must have. Really enjoy Pics/Viber due to their in a different state. Also some games on a time limit. Size and resolution are perfect.   \n",
       "\n",
       "                                                                                                                                                                                                                                                                                                                                                                                                           cleaned  \n",
       "0                                                                                while there are some apps that are missing due to not using the google play store the list is minimal  the tablet itself is quick  responsive  and noticeable nicer than the    fire  picked this up when it was on sale for black friday sales  its great for in front of the tv and catching up on email and light web browsing  \n",
       "1                                                                                                                                                                                                                                                                                                                   i bought one last year for one cousin and had to continue for another this year  great buy imo  \n",
       "2                                                                                                                                                                                                                                                                                                                        i will try again for the  rd time with my new amazon fire  it seems to have nice upgrades  \n",
       "3                                                                                                                                                   bought this for my father  who never did much on computers and was not sure he would actually use this  he unwrapped it  asked for some games to be downloaded and hasnt looked back  he has used the internet as well as the game apps and couldnt be happier  \n",
       "4  this was a request from our   yr old granddaugter who had always asked her older sister if she could share hers due to we bought this same tablet size a few yrs earlier  loved the security parental control options starfall a favorite educational app were told is a must have  really enjoy pics viber due to their in a different state  also some games on a time limit  size and resolution are perfect  "
      ]
     },
     "execution_count": 18,
     "metadata": {},
     "output_type": "execute_result"
    }
   ],
   "source": [
    "fire_df.head()"
   ]
  },
  {
   "cell_type": "markdown",
   "id": "7271b460",
   "metadata": {},
   "source": [
    "## 3. Qualkit Functions: Removing unhelpful responses/reviews\n",
    "\n",
    "Remove any 'don't knows' if we do not want them included.\n",
    "Note that this removes lots of synonyms like 'no opinion', 'no comment', 'I have no idea' etc.\n",
    "Also removes NaNs."
   ]
  },
  {
   "cell_type": "code",
   "execution_count": 20,
   "id": "ae763757",
   "metadata": {},
   "outputs": [],
   "source": [
    "fire_df = clean.remove_dont_knows(fire_df, 'cleaned')"
   ]
  },
  {
   "cell_type": "code",
   "execution_count": 21,
   "id": "fc775b61",
   "metadata": {},
   "outputs": [
    {
     "data": {
      "text/html": [
       "<div>\n",
       "<style scoped>\n",
       "    .dataframe tbody tr th:only-of-type {\n",
       "        vertical-align: middle;\n",
       "    }\n",
       "\n",
       "    .dataframe tbody tr th {\n",
       "        vertical-align: top;\n",
       "    }\n",
       "\n",
       "    .dataframe thead th {\n",
       "        text-align: right;\n",
       "    }\n",
       "</style>\n",
       "<table border=\"1\" class=\"dataframe\">\n",
       "  <thead>\n",
       "    <tr style=\"text-align: right;\">\n",
       "      <th></th>\n",
       "      <th>index</th>\n",
       "      <th>reviews.rating</th>\n",
       "      <th>reviews.title</th>\n",
       "      <th>reviews.text</th>\n",
       "      <th>cleaned</th>\n",
       "    </tr>\n",
       "  </thead>\n",
       "  <tbody>\n",
       "    <tr>\n",
       "      <th>2438</th>\n",
       "      <td>28327</td>\n",
       "      <td>5</td>\n",
       "      <td>Xmas gift</td>\n",
       "      <td>I got 2 of these for my 8 yr old twins. My 11 yr old has one but this one is better. Perfect way to get them to read</td>\n",
       "      <td>i got   of these for my   yr old twins  my    yr old has one but this one is better  perfect way to get them to read</td>\n",
       "    </tr>\n",
       "    <tr>\n",
       "      <th>2439</th>\n",
       "      <td>28328</td>\n",
       "      <td>4</td>\n",
       "      <td>yes it is a great tablet.</td>\n",
       "      <td>I bought this for my niece for a Christmas gift.she is 9 years old and she love it.</td>\n",
       "      <td>i bought this for my niece for a christmas gift she is   years old and she love it</td>\n",
       "    </tr>\n",
       "    <tr>\n",
       "      <th>2440</th>\n",
       "      <td>28329</td>\n",
       "      <td>5</td>\n",
       "      <td>You get a lot for the price!</td>\n",
       "      <td>Very nice for light internet browsing, keeping on top of email, viewing videos, and reading e books, which I like to get free from the library. Good browser, good battery power, fast charge. Very relaxing to sit in a comfy chair and read or browse. Has given me hours of enjoyment and information for a minimal price.</td>\n",
       "      <td>very nice for light internet browsing  keeping on top of email  viewing videos  and reading e books  which i like to get free from the library  good browser  good battery power  fast charge  very relaxing to sit in a comfy chair and read or browse  has given me hours of enjoyment and information for a minimal price</td>\n",
       "    </tr>\n",
       "    <tr>\n",
       "      <th>2441</th>\n",
       "      <td>28330</td>\n",
       "      <td>5</td>\n",
       "      <td>You get the entire World for less than $100!</td>\n",
       "      <td>This Tablet does absolutely everything I want! I can watch TV Shows or Movies, check my Mail, Facebook, Google.......pay all my bills. It processes fast and has a beautiful screen. As I said: Everything I want in a Tablet for less than $100!</td>\n",
       "      <td>this tablet does absolutely everything i want  i can watch tv shows or movies  check my mail  facebook  google       pay all my bills  it processes fast and has a beautiful screen  as i said  everything i want in a tablet for less than</td>\n",
       "    </tr>\n",
       "    <tr>\n",
       "      <th>2442</th>\n",
       "      <td>28331</td>\n",
       "      <td>4</td>\n",
       "      <td>You get what your paying for</td>\n",
       "      <td>At ninety dollars, the expectionations are low, but this is still a very good table, it's good for light use like watching videos or web browsing, but the camera is a bit lacking, and at certain times the device can freeze or lag. Overall this is a good tablet for $90, I would recommend this to anyone on a budget.</td>\n",
       "      <td>at ninety dollars  the expectionations are low  but this is still a very good table  its good for light use like watching videos or web browsing  but the camera is a bit lacking  and at certain times the device can freeze or lag  overall this is a good tablet for      i would recommend this to anyone on a budget</td>\n",
       "    </tr>\n",
       "  </tbody>\n",
       "</table>\n",
       "</div>"
      ],
      "text/plain": [
       "      index  reviews.rating                                 reviews.title  \\\n",
       "2438  28327               5                                     Xmas gift   \n",
       "2439  28328               4                     yes it is a great tablet.   \n",
       "2440  28329               5                  You get a lot for the price!   \n",
       "2441  28330               5  You get the entire World for less than $100!   \n",
       "2442  28331               4                  You get what your paying for   \n",
       "\n",
       "                                                                                                                                                                                                                                                                                                                       reviews.text  \\\n",
       "2438                                                                                                                                                                                                           I got 2 of these for my 8 yr old twins. My 11 yr old has one but this one is better. Perfect way to get them to read   \n",
       "2439                                                                                                                                                                                                                                            I bought this for my niece for a Christmas gift.she is 9 years old and she love it.   \n",
       "2440  Very nice for light internet browsing, keeping on top of email, viewing videos, and reading e books, which I like to get free from the library. Good browser, good battery power, fast charge. Very relaxing to sit in a comfy chair and read or browse. Has given me hours of enjoyment and information for a minimal price.   \n",
       "2441                                                                              This Tablet does absolutely everything I want! I can watch TV Shows or Movies, check my Mail, Facebook, Google.......pay all my bills. It processes fast and has a beautiful screen. As I said: Everything I want in a Tablet for less than $100!   \n",
       "2442    At ninety dollars, the expectionations are low, but this is still a very good table, it's good for light use like watching videos or web browsing, but the camera is a bit lacking, and at certain times the device can freeze or lag. Overall this is a good tablet for $90, I would recommend this to anyone on a budget.   \n",
       "\n",
       "                                                                                                                                                                                                                                                                                                                           cleaned  \n",
       "2438                                                                                                                                                                                                          i got   of these for my   yr old twins  my    yr old has one but this one is better  perfect way to get them to read  \n",
       "2439                                                                                                                                                                                                                                            i bought this for my niece for a christmas gift she is   years old and she love it  \n",
       "2440  very nice for light internet browsing  keeping on top of email  viewing videos  and reading e books  which i like to get free from the library  good browser  good battery power  fast charge  very relaxing to sit in a comfy chair and read or browse  has given me hours of enjoyment and information for a minimal price  \n",
       "2441                                                                                   this tablet does absolutely everything i want  i can watch tv shows or movies  check my mail  facebook  google       pay all my bills  it processes fast and has a beautiful screen  as i said  everything i want in a tablet for less than  \n",
       "2442     at ninety dollars  the expectionations are low  but this is still a very good table  its good for light use like watching videos or web browsing  but the camera is a bit lacking  and at certain times the device can freeze or lag  overall this is a good tablet for      i would recommend this to anyone on a budget  "
      ]
     },
     "execution_count": 21,
     "metadata": {},
     "output_type": "execute_result"
    }
   ],
   "source": [
    "fire_df.iloc[-5:]"
   ]
  },
  {
   "cell_type": "code",
   "execution_count": 22,
   "id": "4b4c7422",
   "metadata": {},
   "outputs": [
    {
     "data": {
      "text/plain": [
       "(2443, 5)"
      ]
     },
     "execution_count": 22,
     "metadata": {},
     "output_type": "execute_result"
    }
   ],
   "source": [
    "fire_df.shape"
   ]
  },
  {
   "cell_type": "markdown",
   "id": "13b44be8",
   "metadata": {},
   "source": [
    "## 4. Qualkit Functions: Removing unhelpful responses/reviews\n",
    "\n",
    "Lemmatize the text - this creates a canonical form for each word. So it removes plurals, stems verbs and so on. It will treat words according to their part-of-speech so you may find words which can be both a verb and a noun treated differently and need adding to your anchor terms e.g. \"present\" (verb; includes presents, presented and presenting) and \"presentation\" (noun; includes presentations) or \"record\" (verb;includes records, recorded, recording) and \"recording\" (noun; includes recordings)."
   ]
  },
  {
   "cell_type": "code",
   "execution_count": 23,
   "id": "43d533ff",
   "metadata": {},
   "outputs": [],
   "source": [
    "fire_df = clean.lemmatize(fire_df, 'cleaned')"
   ]
  },
  {
   "cell_type": "code",
   "execution_count": 24,
   "id": "f91f3de8",
   "metadata": {},
   "outputs": [
    {
     "data": {
      "text/html": [
       "<div>\n",
       "<style scoped>\n",
       "    .dataframe tbody tr th:only-of-type {\n",
       "        vertical-align: middle;\n",
       "    }\n",
       "\n",
       "    .dataframe tbody tr th {\n",
       "        vertical-align: top;\n",
       "    }\n",
       "\n",
       "    .dataframe thead th {\n",
       "        text-align: right;\n",
       "    }\n",
       "</style>\n",
       "<table border=\"1\" class=\"dataframe\">\n",
       "  <thead>\n",
       "    <tr style=\"text-align: right;\">\n",
       "      <th></th>\n",
       "      <th>index</th>\n",
       "      <th>reviews.rating</th>\n",
       "      <th>reviews.title</th>\n",
       "      <th>reviews.text</th>\n",
       "      <th>cleaned</th>\n",
       "    </tr>\n",
       "  </thead>\n",
       "  <tbody>\n",
       "    <tr>\n",
       "      <th>0</th>\n",
       "      <td>25889</td>\n",
       "      <td>5</td>\n",
       "      <td>. Nice hand sized tablet</td>\n",
       "      <td>While there are some apps that are missing due to not using the Google Play Store the list is minimal. The tablet itself is quick, responsive, and noticeable nicer than the 7\" fire. Picked this up when it was on sale for black friday sales. It's great for in front of the TV and catching up on email and light web browsing.</td>\n",
       "      <td>while there be some apps that be miss due to not use the google play store the list be minimal the tablet itself be quick responsive and noticeable nicer than the fire pick this up when it be on sale for black friday sale it great for in front of the tv and catch up on email and light web browse</td>\n",
       "    </tr>\n",
       "    <tr>\n",
       "      <th>1</th>\n",
       "      <td>25890</td>\n",
       "      <td>4</td>\n",
       "      <td>2nd purchase</td>\n",
       "      <td>I bought one last year for one cousin and had to continue for another this year. Great buy imo.</td>\n",
       "      <td>i buy one last year for one cousin and have to continue for another this year great buy imo</td>\n",
       "    </tr>\n",
       "    <tr>\n",
       "      <th>2</th>\n",
       "      <td>25891</td>\n",
       "      <td>4</td>\n",
       "      <td>3rd time is the charm</td>\n",
       "      <td>I will try again for the 3rd time with my new Amazon Fire. It seems to have nice upgrades.</td>\n",
       "      <td>i will try again for the rd time with my new amazon fire it seem to have nice upgrade</td>\n",
       "    </tr>\n",
       "    <tr>\n",
       "      <th>3</th>\n",
       "      <td>25892</td>\n",
       "      <td>5</td>\n",
       "      <td>5 star service</td>\n",
       "      <td>bought this for my father, who never did much on computers and was not sure he would actually use this. He unwrapped it, asked for some games to be downloaded and hasn't looked back! He has used the internet as well as the game apps and couldn't be happier.</td>\n",
       "      <td>buy this for my father who never do much on computer and be not sure he would actually use this he unwrap it ask for some game to be download and hasnt look back he have use the internet as well a the game apps and couldnt be happy</td>\n",
       "    </tr>\n",
       "    <tr>\n",
       "      <th>4</th>\n",
       "      <td>25893</td>\n",
       "      <td>5</td>\n",
       "      <td>7 year old granddaughter loves it</td>\n",
       "      <td>This was a request from our 7 yr old granddaugter who had always asked her older sister if she could share hers due to we bought this same tablet/size a few yrs earlier. Loved the security/parental control options.Starfall a favorite educational app were told is a must have. Really enjoy Pics/Viber due to their in a different state. Also some games on a time limit. Size and resolution are perfect.</td>\n",
       "      <td>this be a request from our yr old granddaugter who have always ask her old sister if she could share hers due to we buy this same tablet size a few yr earlier love the security parental control option starfall a favorite educational app be tell be a must have really enjoy pic viber due to their in a different state also some game on a time limit size and resolution be perfect</td>\n",
       "    </tr>\n",
       "  </tbody>\n",
       "</table>\n",
       "</div>"
      ],
      "text/plain": [
       "   index  reviews.rating                      reviews.title  \\\n",
       "0  25889               5           . Nice hand sized tablet   \n",
       "1  25890               4                       2nd purchase   \n",
       "2  25891               4              3rd time is the charm   \n",
       "3  25892               5                     5 star service   \n",
       "4  25893               5  7 year old granddaughter loves it   \n",
       "\n",
       "                                                                                                                                                                                                                                                                                                                                                                                                       reviews.text  \\\n",
       "0                                                                               While there are some apps that are missing due to not using the Google Play Store the list is minimal. The tablet itself is quick, responsive, and noticeable nicer than the 7\" fire. Picked this up when it was on sale for black friday sales. It's great for in front of the TV and catching up on email and light web browsing.   \n",
       "1                                                                                                                                                                                                                                                                                                                   I bought one last year for one cousin and had to continue for another this year. Great buy imo.   \n",
       "2                                                                                                                                                                                                                                                                                                                        I will try again for the 3rd time with my new Amazon Fire. It seems to have nice upgrades.   \n",
       "3                                                                                                                                                 bought this for my father, who never did much on computers and was not sure he would actually use this. He unwrapped it, asked for some games to be downloaded and hasn't looked back! He has used the internet as well as the game apps and couldn't be happier.   \n",
       "4  This was a request from our 7 yr old granddaugter who had always asked her older sister if she could share hers due to we bought this same tablet/size a few yrs earlier. Loved the security/parental control options.Starfall a favorite educational app were told is a must have. Really enjoy Pics/Viber due to their in a different state. Also some games on a time limit. Size and resolution are perfect.   \n",
       "\n",
       "                                                                                                                                                                                                                                                                                                                                                                                      cleaned  \n",
       "0                                                                                    while there be some apps that be miss due to not use the google play store the list be minimal the tablet itself be quick responsive and noticeable nicer than the fire pick this up when it be on sale for black friday sale it great for in front of the tv and catch up on email and light web browse  \n",
       "1                                                                                                                                                                                                                                                                                                 i buy one last year for one cousin and have to continue for another this year great buy imo  \n",
       "2                                                                                                                                                                                                                                                                                                       i will try again for the rd time with my new amazon fire it seem to have nice upgrade  \n",
       "3                                                                                                                                                     buy this for my father who never do much on computer and be not sure he would actually use this he unwrap it ask for some game to be download and hasnt look back he have use the internet as well a the game apps and couldnt be happy  \n",
       "4  this be a request from our yr old granddaugter who have always ask her old sister if she could share hers due to we buy this same tablet size a few yr earlier love the security parental control option starfall a favorite educational app be tell be a must have really enjoy pic viber due to their in a different state also some game on a time limit size and resolution be perfect  "
      ]
     },
     "execution_count": 24,
     "metadata": {},
     "output_type": "execute_result"
    }
   ],
   "source": [
    "fire_df.head() #missing -> miss, bought-> buy, picked-> pick"
   ]
  },
  {
   "cell_type": "markdown",
   "id": "93c0008b",
   "metadata": {},
   "source": [
    "## 5. Qualkit Functions: Choosing Starting Number of Topics\n",
    "A first step in building a model is to see what would be a good number of starting topics. The following code will generate the 'total correlation' (tc) for the question using 1-24 topics. \n",
    "Look for a 'peak' where the TC either drops afterwards or stops going up steeply as a good starting number."
   ]
  },
  {
   "cell_type": "code",
   "execution_count": 26,
   "id": "87b17dc2",
   "metadata": {
    "scrolled": true
   },
   "outputs": [
    {
     "name": "stdout",
     "output_type": "stream",
     "text": [
      "Total correlation with 1 topics = 2.5290871681200793\n",
      "Total correlation with 2 topics = 3.5824102488461493\n",
      "Total correlation with 3 topics = 3.9961597034360876\n",
      "Total correlation with 4 topics = 4.35188110130328\n",
      "Total correlation with 5 topics = 5.061662325276293\n",
      "Total correlation with 6 topics = 5.2939679279593275\n",
      "Total correlation with 7 topics = 5.403510178496677\n",
      "Total correlation with 8 topics = 5.749399602211755\n",
      "Total correlation with 9 topics = 6.221039912042572\n",
      "Total correlation with 10 topics = 6.1522211928394\n",
      "Total correlation with 11 topics = 6.746337582636157\n",
      "Total correlation with 12 topics = 6.188576365555746\n",
      "Total correlation with 13 topics = 6.489748928527931\n",
      "Total correlation with 14 topics = 6.762859289306553\n",
      "Total correlation with 15 topics = 6.99614985427055\n",
      "Total correlation with 16 topics = 7.15885491424165\n",
      "Total correlation with 17 topics = 7.404509685395487\n",
      "Total correlation with 18 topics = 7.4796969440961805\n",
      "Total correlation with 19 topics = 7.576831931650809\n",
      "Total correlation with 20 topics = 7.202537790132137\n",
      "Total correlation with 21 topics = 7.611005860609564\n",
      "Total correlation with 22 topics = 7.852753078493945\n",
      "Total correlation with 23 topics = 7.599223086595352\n",
      "Total correlation with 24 topics = 7.90388241895311\n"
     ]
    }
   ],
   "source": [
    "metrics = pd.DataFrame(topic_metrics(fire_df, 'cleaned')) #suppress this printing to make quicker"
   ]
  },
  {
   "cell_type": "markdown",
   "id": "de44bb66",
   "metadata": {},
   "source": [
    "Produce a visual plot"
   ]
  },
  {
   "cell_type": "code",
   "execution_count": 27,
   "id": "28a0cf51",
   "metadata": {},
   "outputs": [
    {
     "data": {
      "image/png": "[encoded data removed]",
      "text/plain": [
       "<Figure size 432x288 with 1 Axes>"
      ]
     },
     "metadata": {
      "needs_background": "light"
     },
     "output_type": "display_data"
    }
   ],
   "source": [
    "plt.plot(metrics['topics'], metrics['tc'])\n",
    "plt.title('Total Correlation Plot Amazon Reviews')\n",
    "plt.xlabel('Number of topics')\n",
    "plt.ylabel('Total Correlation Metric')\n",
    "plt.grid(True)\n",
    "plt.xticks(np.arange(1, 25, 1))\n",
    "plt.show()"
   ]
  },
  {
   "cell_type": "markdown",
   "id": "c4c88297",
   "metadata": {},
   "source": [
    "## 6. Qualkit Functions: Fitting an Initial Model\n",
    "\n",
    "The next stage is to build a model with the number of topics identified but without any anchor terms. The output will probably start to suggest ideas for how to classify the topics."
   ]
  },
  {
   "cell_type": "code",
   "execution_count": 28,
   "id": "28c9a804",
   "metadata": {},
   "outputs": [
    {
     "name": "stdout",
     "output_type": "stream",
     "text": [
      "Total correlation: 6.746337582636157\n",
      "Topic #1: google, store, google play, apps, dont, android, play store, app store, google play store, app\n",
      "Topic #2: book, watch, read, game, movie, play game, read book, play, battery life, life\n",
      "Topic #3: fire, fire hd, kindle fire, kindle, hd, fire tablet, one, kindle fire hd, replace, upgrade\n",
      "Topic #4: amazon, amazon fire, prime, amazon prime, card, sd, sd card, amazon fire hd, gb, memory\n",
      "Topic #5: old, year, year old, new, old kindle, old one, new kindle, yr old, yr, replace old\n",
      "Topic #6: friday, black friday, black, cant beat, beat, member, cant, deal, prime member, beat price\n",
      "Topic #7: screen, size, clear, weight, perfect size, big, large, light weight, light, resolution\n",
      "Topic #8: gift, christmas, love, buy, wife, daughter, friendly, christmas gift, user friendly, daughter love\n",
      "Topic #9: need, ipad, control, parental, point, first, parental control, everything need, go, price point\n",
      "Topic #10: price, good, great price, value, tablet price, good tablet, money, nice, tablet good, cheap\n",
      "Topic #11: best, quality, recommend, best buy, highly, overall, highly recommend, purchase, anyone, two\n"
     ]
    }
   ],
   "source": [
    "fire_df = anchored_topic_model(fire_df, 'cleaned', print_topic_details=True, number_of_topics=11)"
   ]
  },
  {
   "cell_type": "code",
   "execution_count": 29,
   "id": "70d46f74",
   "metadata": {},
   "outputs": [
    {
     "name": "stdout",
     "output_type": "stream",
     "text": [
      "                                                                                                    count  \\\n",
      "book, watch, read, game, movie, play game, read book, play, battery life, life                        460   \n",
      "No matching topic                                                                                     352   \n",
      "google, store, google play, apps, dont, android, play store, app store, google play store, app        331   \n",
      "fire, fire hd, kindle fire, kindle, hd, fire tablet, one, kindle fire hd, replace, upgrade            279   \n",
      "gift, christmas, love, buy, wife, daughter, friendly, christmas gift, user friendly, daughter love    230   \n",
      "price, good, great price, value, tablet price, good tablet, money, nice, tablet good, cheap           182   \n",
      "screen, size, clear, weight, perfect size, big, large, light weight, light, resolution                170   \n",
      "old, year, year old, new, old kindle, old one, new kindle, yr old, yr, replace old                    132   \n",
      "friday, black friday, black, cant beat, beat, member, cant, deal, prime member, beat price             90   \n",
      "amazon, amazon fire, prime, amazon prime, card, sd, sd card, amazon fire hd, gb, memory                76   \n",
      "best, quality, recommend, best buy, highly, overall, highly recommend, purchase, anyone, two           74   \n",
      "need, ipad, control, parental, point, first, parental control, everything need, go, price point        67   \n",
      "\n",
      "                                                                                                    proportion  \n",
      "book, watch, read, game, movie, play game, read book, play, battery life, life                        0.188293  \n",
      "No matching topic                                                                                     0.144085  \n",
      "google, store, google play, apps, dont, android, play store, app store, google play store, app        0.135489  \n",
      "fire, fire hd, kindle fire, kindle, hd, fire tablet, one, kindle fire hd, replace, upgrade            0.114204  \n",
      "gift, christmas, love, buy, wife, daughter, friendly, christmas gift, user friendly, daughter love    0.094147  \n",
      "price, good, great price, value, tablet price, good tablet, money, nice, tablet good, cheap           0.074499  \n",
      "screen, size, clear, weight, perfect size, big, large, light weight, light, resolution                0.069587  \n",
      "old, year, year old, new, old kindle, old one, new kindle, yr old, yr, replace old                    0.054032  \n",
      "friday, black friday, black, cant beat, beat, member, cant, deal, prime member, beat price            0.036840  \n",
      "amazon, amazon fire, prime, amazon prime, card, sd, sd card, amazon fire hd, gb, memory               0.031109  \n",
      "best, quality, recommend, best buy, highly, overall, highly recommend, purchase, anyone, two          0.030291  \n",
      "need, ipad, control, parental, point, first, parental control, everything need, go, price point       0.027425  \n"
     ]
    }
   ],
   "source": [
    "counts = fire_df[\"Topic label\"].value_counts(sort=True)\n",
    "proportions = fire_df[\"Topic label\"].value_counts(normalize=True)\n",
    "\n",
    "props = pd.concat([counts, proportions], axis=1)\n",
    "props.columns = ['count', 'proportion']\n",
    "\n",
    "print(props)"
   ]
  },
  {
   "cell_type": "markdown",
   "id": "8bb05a4c",
   "metadata": {},
   "source": [
    "From this you can start to see potential topic names/labels which describe a collective of words"
   ]
  },
  {
   "cell_type": "code",
   "execution_count": 30,
   "id": "f92780e9",
   "metadata": {},
   "outputs": [],
   "source": [
    "fire_df = fire_df.drop(columns=['Topic label', 'Topic name']) #Removing these columns which get added ready for running the final model"
   ]
  },
  {
   "cell_type": "code",
   "execution_count": 41,
   "id": "9618a99f",
   "metadata": {},
   "outputs": [
    {
     "data": {
      "text/html": [
       "<div>\n",
       "<style scoped>\n",
       "    .dataframe tbody tr th:only-of-type {\n",
       "        vertical-align: middle;\n",
       "    }\n",
       "\n",
       "    .dataframe tbody tr th {\n",
       "        vertical-align: top;\n",
       "    }\n",
       "\n",
       "    .dataframe thead th {\n",
       "        text-align: right;\n",
       "    }\n",
       "</style>\n",
       "<table border=\"1\" class=\"dataframe\">\n",
       "  <thead>\n",
       "    <tr style=\"text-align: right;\">\n",
       "      <th></th>\n",
       "      <th>index</th>\n",
       "      <th>reviews.rating</th>\n",
       "      <th>reviews.title</th>\n",
       "      <th>reviews.text</th>\n",
       "      <th>cleaned</th>\n",
       "      <th>Topic label</th>\n",
       "      <th>Topic name</th>\n",
       "    </tr>\n",
       "  </thead>\n",
       "  <tbody>\n",
       "    <tr>\n",
       "      <th>0</th>\n",
       "      <td>25889</td>\n",
       "      <td>5</td>\n",
       "      <td>. Nice hand sized tablet</td>\n",
       "      <td>While there are some apps that are missing due to not using the Google Play Store the list is minimal. The tablet itself is quick, responsive, and noticeable nicer than the 7\" fire. Picked this up when it was on sale for black friday sales. It's great for in front of the TV and catching up on email and light web browsing.</td>\n",
       "      <td>while there be some apps that be miss due to not use the google play store the list be minimal the tablet itself be quick responsive and noticeable nicer than the fire pick this up when it be on sale for black friday sale it great for in front of the tv and catch up on email and light web browse</td>\n",
       "      <td>store, google, apps, android, google play, play store, app, app store, google play store, dont</td>\n",
       "      <td>Apps</td>\n",
       "    </tr>\n",
       "    <tr>\n",
       "      <th>1</th>\n",
       "      <td>25890</td>\n",
       "      <td>4</td>\n",
       "      <td>2nd purchase</td>\n",
       "      <td>I bought one last year for one cousin and had to continue for another this year. Great buy imo.</td>\n",
       "      <td>i buy one last year for one cousin and have to continue for another this year great buy imo</td>\n",
       "      <td>No matching topic</td>\n",
       "      <td>No matching topic</td>\n",
       "    </tr>\n",
       "    <tr>\n",
       "      <th>2</th>\n",
       "      <td>25891</td>\n",
       "      <td>4</td>\n",
       "      <td>3rd time is the charm</td>\n",
       "      <td>I will try again for the 3rd time with my new Amazon Fire. It seems to have nice upgrades.</td>\n",
       "      <td>i will try again for the rd time with my new amazon fire it seem to have nice upgrade</td>\n",
       "      <td>kindle, replace, upgrade, kindle fire, new, old kindle, one, old one, love kindle, replace old</td>\n",
       "      <td>Replace and Upgrade</td>\n",
       "    </tr>\n",
       "    <tr>\n",
       "      <th>3</th>\n",
       "      <td>25892</td>\n",
       "      <td>5</td>\n",
       "      <td>5 star service</td>\n",
       "      <td>bought this for my father, who never did much on computers and was not sure he would actually use this. He unwrapped it, asked for some games to be downloaded and hasn't looked back! He has used the internet as well as the game apps and couldn't be happier.</td>\n",
       "      <td>buy this for my father who never do much on computer and be not sure he would actually use this he unwrap it ask for some game to be download and hasnt look back he have use the internet as well a the game apps and couldnt be happy</td>\n",
       "      <td>store, google, apps, android, google play, play store, app, app store, google play store, dont</td>\n",
       "      <td>Apps</td>\n",
       "    </tr>\n",
       "    <tr>\n",
       "      <th>4</th>\n",
       "      <td>25893</td>\n",
       "      <td>5</td>\n",
       "      <td>7 year old granddaughter loves it</td>\n",
       "      <td>This was a request from our 7 yr old granddaugter who had always asked her older sister if she could share hers due to we bought this same tablet/size a few yrs earlier. Loved the security/parental control options.Starfall a favorite educational app were told is a must have. Really enjoy Pics/Viber due to their in a different state. Also some games on a time limit. Size and resolution are perfect.</td>\n",
       "      <td>this be a request from our yr old granddaugter who have always ask her old sister if she could share hers due to we buy this same tablet size a few yr earlier love the security parental control option starfall a favorite educational app be tell be a must have really enjoy pic viber due to their in a different state also some game on a time limit size and resolution be perfect</td>\n",
       "      <td>store, google, apps, android, google play, play store, app, app store, google play store, dont</td>\n",
       "      <td>Apps</td>\n",
       "    </tr>\n",
       "  </tbody>\n",
       "</table>\n",
       "</div>"
      ],
      "text/plain": [
       "   index  reviews.rating                      reviews.title  \\\n",
       "0  25889               5           . Nice hand sized tablet   \n",
       "1  25890               4                       2nd purchase   \n",
       "2  25891               4              3rd time is the charm   \n",
       "3  25892               5                     5 star service   \n",
       "4  25893               5  7 year old granddaughter loves it   \n",
       "\n",
       "                                                                                                                                                                                                                                                                                                                                                                                                       reviews.text  \\\n",
       "0                                                                               While there are some apps that are missing due to not using the Google Play Store the list is minimal. The tablet itself is quick, responsive, and noticeable nicer than the 7\" fire. Picked this up when it was on sale for black friday sales. It's great for in front of the TV and catching up on email and light web browsing.   \n",
       "1                                                                                                                                                                                                                                                                                                                   I bought one last year for one cousin and had to continue for another this year. Great buy imo.   \n",
       "2                                                                                                                                                                                                                                                                                                                        I will try again for the 3rd time with my new Amazon Fire. It seems to have nice upgrades.   \n",
       "3                                                                                                                                                 bought this for my father, who never did much on computers and was not sure he would actually use this. He unwrapped it, asked for some games to be downloaded and hasn't looked back! He has used the internet as well as the game apps and couldn't be happier.   \n",
       "4  This was a request from our 7 yr old granddaugter who had always asked her older sister if she could share hers due to we bought this same tablet/size a few yrs earlier. Loved the security/parental control options.Starfall a favorite educational app were told is a must have. Really enjoy Pics/Viber due to their in a different state. Also some games on a time limit. Size and resolution are perfect.   \n",
       "\n",
       "                                                                                                                                                                                                                                                                                                                                                                                      cleaned  \\\n",
       "0                                                                                    while there be some apps that be miss due to not use the google play store the list be minimal the tablet itself be quick responsive and noticeable nicer than the fire pick this up when it be on sale for black friday sale it great for in front of the tv and catch up on email and light web browse   \n",
       "1                                                                                                                                                                                                                                                                                                 i buy one last year for one cousin and have to continue for another this year great buy imo   \n",
       "2                                                                                                                                                                                                                                                                                                       i will try again for the rd time with my new amazon fire it seem to have nice upgrade   \n",
       "3                                                                                                                                                     buy this for my father who never do much on computer and be not sure he would actually use this he unwrap it ask for some game to be download and hasnt look back he have use the internet as well a the game apps and couldnt be happy   \n",
       "4  this be a request from our yr old granddaugter who have always ask her old sister if she could share hers due to we buy this same tablet size a few yr earlier love the security parental control option starfall a favorite educational app be tell be a must have really enjoy pic viber due to their in a different state also some game on a time limit size and resolution be perfect   \n",
       "\n",
       "                                                                                      Topic label  \\\n",
       "0  store, google, apps, android, google play, play store, app, app store, google play store, dont   \n",
       "1                                                                               No matching topic   \n",
       "2  kindle, replace, upgrade, kindle fire, new, old kindle, one, old one, love kindle, replace old   \n",
       "3  store, google, apps, android, google play, play store, app, app store, google play store, dont   \n",
       "4  store, google, apps, android, google play, play store, app, app store, google play store, dont   \n",
       "\n",
       "            Topic name  \n",
       "0                 Apps  \n",
       "1    No matching topic  \n",
       "2  Replace and Upgrade  \n",
       "3                 Apps  \n",
       "4                 Apps  "
      ]
     },
     "execution_count": 41,
     "metadata": {},
     "output_type": "execute_result"
    }
   ],
   "source": [
    "fire_df.head()"
   ]
  },
  {
   "cell_type": "markdown",
   "id": "f402ea40",
   "metadata": {},
   "source": [
    "## 6. Qualkit Functions: Fitting a final user input model (Iterative Process)\n",
    "\n",
    "The next stage is to build a model using anchor terms. You need to specify a list of topic names, and the anchor terms to go with them. This is the stage where you can get user input on topic names, key words to guide the model."
   ]
  },
  {
   "cell_type": "markdown",
   "id": "23bc4f33",
   "metadata": {},
   "source": [
    "The topic names are just to make it easier to understand what you think the topic is - it doesn't affect the model in any way, and you can change them at any time.\n",
    "Note that they are in order, so the first name is topic 1, the second topic 2 etc."
   ]
  },
  {
   "cell_type": "code",
   "execution_count": 32,
   "id": "fa40b5ab",
   "metadata": {},
   "outputs": [],
   "source": [
    "topic_names = [\n",
    "      'Apps',\n",
    "      'Features',\n",
    "      'Replace and Upgrade',\n",
    "      'Memory/Storage',\n",
    "      'Streaming',\n",
    "      'Deal',\n",
    "      'Size',\n",
    "      'Recipient',\n",
    "      'Parental Control',    \n",
    "      'Price',\n",
    "      'Recommendation'\n",
    "]"
   ]
  },
  {
   "cell_type": "code",
   "execution_count": 33,
   "id": "adfcc1e9",
   "metadata": {},
   "outputs": [],
   "source": [
    "anchors = [\n",
    "      ['google', 'store', 'google play', 'apps', 'android', 'play store', 'app store', 'google play store', 'app'],\n",
    "      ['book', 'watch', 'read', 'game', 'movie', 'play game', 'read book', 'play', 'battery life', 'life', 'user friendly'],\n",
    "      ['replace', 'upgrade', 'replace old', 'old kindle', 'old one'],\n",
    "      ['sd', 'sd card', 'gb', 'memory'],\n",
    "      ['amazon fire', 'prime', 'amazon prime'], #Might be a tablet expert who recommends streaming added \n",
    "      ['black friday', 'prime member', 'beat price', 'member', 'cant beat'],\n",
    "      ['screen', 'size', 'clear', 'weight', 'perfect size', 'big', 'large', 'light weight', 'light', 'resolution'],\n",
    "      ['gift', 'christmas', 'wife', 'daughter', 'christmas gift', 'daughter'],\n",
    "      ['control', 'parental', 'parental control'],\n",
    "      ['price', 'great price', 'value', 'tablet price', 'money', 'cheap'],\n",
    "      ['quality', 'recommend', 'best buy', 'highly', 'overall', 'highly recommend']\n",
    "]"
   ]
  },
  {
   "cell_type": "code",
   "execution_count": 34,
   "id": "990d8389",
   "metadata": {},
   "outputs": [
    {
     "name": "stdout",
     "output_type": "stream",
     "text": [
      "Total correlation: 10.63597774479783\n",
      "Topic #1: store, google, apps, android, google play, play store, app, app store, google play store, dont\n",
      "Topic #2: book, game, watch, read, movie, life, play, play game, read book, battery life\n",
      "Topic #3: kindle, replace, upgrade, kindle fire, new, old kindle, one, old one, love kindle, replace old\n",
      "Topic #4: memory, gb, sd, sd card, card, need, wrong, go wrong, micro, storage\n",
      "Topic #5: prime, amazon fire, fire hd, fire, hd, amazon, amazon prime, amazon fire hd, kindle fire hd, hd tablet\n",
      "Topic #6: black friday, cant beat, friday, member, black, prime member, beat price, beat, cant, cant beat price\n",
      "Topic #7: screen, size, big, light, resolution, clear, large, weight, perfect size, light weight\n",
      "Topic #8: gift, christmas, wife, daughter, christmas gift, love, buy, daughter love, absolutely love, wife love\n",
      "Topic #9: year, year old, old, control, parental, parental control, yr old, yr, buy year, old son\n",
      "Topic #10: price, great price, value, cheap, tablet price, money, good, low, low price, great tablet price\n",
      "Topic #11: recommend, quality, overall, best buy, highly, highly recommend, best, high, anyone, recommend anyone\n"
     ]
    }
   ],
   "source": [
    "fire_df = anchored_topic_model(fire_df, 'cleaned', topic_names=topic_names, anchors=anchors, print_topic_details=True)"
   ]
  },
  {
   "cell_type": "code",
   "execution_count": 36,
   "id": "adb54e77",
   "metadata": {},
   "outputs": [
    {
     "name": "stdout",
     "output_type": "stream",
     "text": [
      "                                                                                                        count  \\\n",
      "book, game, watch, read, movie, life, play, play game, read book, battery life                            512   \n",
      "No matching topic                                                                                         423   \n",
      "store, google, apps, android, google play, play store, app, app store, google play store, dont            316   \n",
      "kindle, replace, upgrade, kindle fire, new, old kindle, one, old one, love kindle, replace old            275   \n",
      "gift, christmas, wife, daughter, christmas gift, love, buy, daughter love, absolutely love, wife love     228   \n",
      "screen, size, big, light, resolution, clear, large, weight, perfect size, light weight                    208   \n",
      "price, great price, value, cheap, tablet price, money, good, low, low price, great tablet price           161   \n",
      "prime, amazon fire, fire hd, fire, hd, amazon, amazon prime, amazon fire hd, kindle fire hd, hd tablet    100   \n",
      "memory, gb, sd, sd card, card, need, wrong, go wrong, micro, storage                                       60   \n",
      "black friday, cant beat, friday, member, black, prime member, beat price, beat, cant, cant beat price      59   \n",
      "recommend, quality, overall, best buy, highly, highly recommend, best, high, anyone, recommend anyone      58   \n",
      "year, year old, old, control, parental, parental control, yr old, yr, buy year, old son                    43   \n",
      "\n",
      "                                                                                                        proportion  \n",
      "book, game, watch, read, movie, life, play, play game, read book, battery life                            0.209578  \n",
      "No matching topic                                                                                         0.173148  \n",
      "store, google, apps, android, google play, play store, app, app store, google play store, dont            0.129349  \n",
      "kindle, replace, upgrade, kindle fire, new, old kindle, one, old one, love kindle, replace old            0.112567  \n",
      "gift, christmas, wife, daughter, christmas gift, love, buy, daughter love, absolutely love, wife love     0.093328  \n",
      "screen, size, big, light, resolution, clear, large, weight, perfect size, light weight                    0.085141  \n",
      "price, great price, value, cheap, tablet price, money, good, low, low price, great tablet price           0.065903  \n",
      "prime, amazon fire, fire hd, fire, hd, amazon, amazon prime, amazon fire hd, kindle fire hd, hd tablet    0.040933  \n",
      "memory, gb, sd, sd card, card, need, wrong, go wrong, micro, storage                                      0.024560  \n",
      "black friday, cant beat, friday, member, black, prime member, beat price, beat, cant, cant beat price     0.024151  \n",
      "recommend, quality, overall, best buy, highly, highly recommend, best, high, anyone, recommend anyone     0.023741  \n",
      "year, year old, old, control, parental, parental control, yr old, yr, buy year, old son                   0.017601  \n"
     ]
    }
   ],
   "source": [
    "counts = fire_df[\"Topic label\"].value_counts(sort=True)\n",
    "proportions = fire_df[\"Topic label\"].value_counts(normalize=True)\n",
    "\n",
    "props = pd.concat([counts, proportions], axis=1)\n",
    "props.columns = ['count', 'proportion']\n",
    "\n",
    "print(props)"
   ]
  },
  {
   "cell_type": "markdown",
   "id": "cc806e5b",
   "metadata": {},
   "source": [
    "## 6. Qualkit Functions: Fitting a final user input model (Iterative Process)\n",
    "\n",
    "To help shape the model, its good to get an idea of what responses aren't being matched by the topic model we've created. The code below will output another topic model just using the responses\n",
    "that didn't match any of the topics in the main model above. This is useful for seeing if there are any patterns that suggest missing terms or missing topics."
   ]
  },
  {
   "cell_type": "code",
   "execution_count": 37,
   "id": "a5b1eccc",
   "metadata": {},
   "outputs": [
    {
     "name": "stdout",
     "output_type": "stream",
     "text": [
      "\n",
      "Unmatched topics\n",
      "\n",
      "423\n",
      "Total correlation: 0.5040788400270084\n",
      "Topic #1: love, kid, user, friendly, husband, enjoy, first, user friendly, buy tablet, thing\n",
      "Topic #2: great, easy, one, great tablet, reader, happy, set, pleased, work great, tablet easy\n"
     ]
    }
   ],
   "source": [
    "print(\"\\nUnmatched topics\\n\")\n",
    "unmatched = fire_df[(fire_df['Topic label'] == 'No matching topic')].copy()\n",
    "unmatched = unmatched.drop(columns=['Topic label', 'Topic name'])\n",
    "\n",
    "print(len(unmatched)) # this prints the number of unmatched rows\n",
    "unmatchedmodel = anchored_topic_model(unmatched, 'cleaned', number_of_topics=2, print_topic_details=True)"
   ]
  },
  {
   "cell_type": "markdown",
   "id": "a6a2fe4c",
   "metadata": {},
   "source": [
    "For example 'user friendliness' or 'positive reviews' may be something to consider during the model iterations"
   ]
  },
  {
   "cell_type": "code",
   "execution_count": 59,
   "id": "c44f04a8",
   "metadata": {},
   "outputs": [
    {
     "data": {
      "text/html": [
       "<div>\n",
       "<style scoped>\n",
       "    .dataframe tbody tr th:only-of-type {\n",
       "        vertical-align: middle;\n",
       "    }\n",
       "\n",
       "    .dataframe tbody tr th {\n",
       "        vertical-align: top;\n",
       "    }\n",
       "\n",
       "    .dataframe thead th {\n",
       "        text-align: right;\n",
       "    }\n",
       "</style>\n",
       "<table border=\"1\" class=\"dataframe\">\n",
       "  <thead>\n",
       "    <tr style=\"text-align: right;\">\n",
       "      <th></th>\n",
       "      <th>index</th>\n",
       "      <th>reviews.rating</th>\n",
       "      <th>reviews.title</th>\n",
       "      <th>reviews.text</th>\n",
       "      <th>cleaned</th>\n",
       "      <th>Topic label</th>\n",
       "      <th>Topic name</th>\n",
       "    </tr>\n",
       "  </thead>\n",
       "  <tbody>\n",
       "    <tr>\n",
       "      <th>1</th>\n",
       "      <td>25890</td>\n",
       "      <td>4</td>\n",
       "      <td>2nd purchase</td>\n",
       "      <td>I bought one last year for one cousin and had to continue for another this year. Great buy imo.</td>\n",
       "      <td>i buy one last year for one cousin and have to continue for another this year great buy imo</td>\n",
       "      <td>No matching topic</td>\n",
       "      <td>No matching topic</td>\n",
       "    </tr>\n",
       "    <tr>\n",
       "      <th>5</th>\n",
       "      <td>25894</td>\n",
       "      <td>1</td>\n",
       "      <td>8\" fire 16gb tablet</td>\n",
       "      <td>I am bring it back for an exchange. (a different make)</td>\n",
       "      <td>i be bring it back for an exchange a different make</td>\n",
       "      <td>No matching topic</td>\n",
       "      <td>No matching topic</td>\n",
       "    </tr>\n",
       "    <tr>\n",
       "      <th>8</th>\n",
       "      <td>25897</td>\n",
       "      <td>5</td>\n",
       "      <td>A gift</td>\n",
       "      <td>She loves it . it's the best thing we could of ever brought her</td>\n",
       "      <td>she love it it the best thing we could of ever bring her</td>\n",
       "      <td>love, kid, user, friendly, husband, enjoy, first, user friendly, buy tablet, thing</td>\n",
       "      <td>love, kid, user, friendly, husband, enjoy, first, user friendly, buy tablet, thing</td>\n",
       "    </tr>\n",
       "    <tr>\n",
       "      <th>28</th>\n",
       "      <td>25917</td>\n",
       "      <td>5</td>\n",
       "      <td>A perfect gift for grandkids!!</td>\n",
       "      <td>Bought this for each of my grandchildren and they loved it. Very user friendly</td>\n",
       "      <td>buy this for each of my grandchild and they love it very user friendly</td>\n",
       "      <td>love, kid, user, friendly, husband, enjoy, first, user friendly, buy tablet, thing</td>\n",
       "      <td>love, kid, user, friendly, husband, enjoy, first, user friendly, buy tablet, thing</td>\n",
       "    </tr>\n",
       "    <tr>\n",
       "      <th>34</th>\n",
       "      <td>25923</td>\n",
       "      <td>4</td>\n",
       "      <td>Adequate 8\" Tablet</td>\n",
       "      <td>I purchased this for a small child to use. She is quite happy with it, however it was a little too slow for my taste.</td>\n",
       "      <td>i purchase this for a small child to use she be quite happy with it however it be a little too slow for my taste</td>\n",
       "      <td>No matching topic</td>\n",
       "      <td>No matching topic</td>\n",
       "    </tr>\n",
       "    <tr>\n",
       "      <th>37</th>\n",
       "      <td>25926</td>\n",
       "      <td>5</td>\n",
       "      <td>Affordable</td>\n",
       "      <td>Great product for my 8 year &amp; affordable.. had 2 months &amp; no problems</td>\n",
       "      <td>great product for my year affordable have month no problem</td>\n",
       "      <td>No matching topic</td>\n",
       "      <td>No matching topic</td>\n",
       "    </tr>\n",
       "    <tr>\n",
       "      <th>41</th>\n",
       "      <td>25930</td>\n",
       "      <td>4</td>\n",
       "      <td>All about the free play</td>\n",
       "      <td>The kids more expensive tablets died twice. Repair was more than the Fire brand new.</td>\n",
       "      <td>the kid more expensive tablet die twice repair be more than the fire brand new</td>\n",
       "      <td>love, kid, user, friendly, husband, enjoy, first, user friendly, buy tablet, thing</td>\n",
       "      <td>love, kid, user, friendly, husband, enjoy, first, user friendly, buy tablet, thing</td>\n",
       "    </tr>\n",
       "    <tr>\n",
       "      <th>48</th>\n",
       "      <td>25937</td>\n",
       "      <td>5</td>\n",
       "      <td>Amazing product</td>\n",
       "      <td>Amazing product from Amazon within budget and get the best outcome of it</td>\n",
       "      <td>amaze product from amazon within budget and get the best outcome of it</td>\n",
       "      <td>No matching topic</td>\n",
       "      <td>No matching topic</td>\n",
       "    </tr>\n",
       "    <tr>\n",
       "      <th>53</th>\n",
       "      <td>25942</td>\n",
       "      <td>5</td>\n",
       "      <td>Amazing!</td>\n",
       "      <td>I didn't expect anything less than what I got with this Kindle.</td>\n",
       "      <td>i didnt expect anything less than what i get with this kindle</td>\n",
       "      <td>No matching topic</td>\n",
       "      <td>No matching topic</td>\n",
       "    </tr>\n",
       "    <tr>\n",
       "      <th>55</th>\n",
       "      <td>25944</td>\n",
       "      <td>3</td>\n",
       "      <td>Amazon</td>\n",
       "      <td>Tablet stopped working after owning for two weeks. Came back on after an hour.</td>\n",
       "      <td>tablet stop work after own for two week come back on after an hour</td>\n",
       "      <td>No matching topic</td>\n",
       "      <td>No matching topic</td>\n",
       "    </tr>\n",
       "  </tbody>\n",
       "</table>\n",
       "</div>"
      ],
      "text/plain": [
       "    index  reviews.rating                   reviews.title  \\\n",
       "1   25890               4                    2nd purchase   \n",
       "5   25894               1             8\" fire 16gb tablet   \n",
       "8   25897               5                          A gift   \n",
       "28  25917               5  A perfect gift for grandkids!!   \n",
       "34  25923               4              Adequate 8\" Tablet   \n",
       "37  25926               5                      Affordable   \n",
       "41  25930               4         All about the free play   \n",
       "48  25937               5                 Amazing product   \n",
       "53  25942               5                        Amazing!   \n",
       "55  25944               3                          Amazon   \n",
       "\n",
       "                                                                                                             reviews.text  \\\n",
       "1                         I bought one last year for one cousin and had to continue for another this year. Great buy imo.   \n",
       "5                                                                  I am bring it back for an exchange. (a different make)   \n",
       "8                                                         She loves it . it's the best thing we could of ever brought her   \n",
       "28                                         Bought this for each of my grandchildren and they loved it. Very user friendly   \n",
       "34  I purchased this for a small child to use. She is quite happy with it, however it was a little too slow for my taste.   \n",
       "37                                                  Great product for my 8 year & affordable.. had 2 months & no problems   \n",
       "41                                   The kids more expensive tablets died twice. Repair was more than the Fire brand new.   \n",
       "48                                               Amazing product from Amazon within budget and get the best outcome of it   \n",
       "53                                                        I didn't expect anything less than what I got with this Kindle.   \n",
       "55                                         Tablet stopped working after owning for two weeks. Came back on after an hour.   \n",
       "\n",
       "                                                                                                             cleaned  \\\n",
       "1                        i buy one last year for one cousin and have to continue for another this year great buy imo   \n",
       "5                                                                i be bring it back for an exchange a different make   \n",
       "8                                                           she love it it the best thing we could of ever bring her   \n",
       "28                                            buy this for each of my grandchild and they love it very user friendly   \n",
       "34  i purchase this for a small child to use she be quite happy with it however it be a little too slow for my taste   \n",
       "37                                                        great product for my year affordable have month no problem   \n",
       "41                                    the kid more expensive tablet die twice repair be more than the fire brand new   \n",
       "48                                            amaze product from amazon within budget and get the best outcome of it   \n",
       "53                                                     i didnt expect anything less than what i get with this kindle   \n",
       "55                                                tablet stop work after own for two week come back on after an hour   \n",
       "\n",
       "                                                                           Topic label  \\\n",
       "1                                                                    No matching topic   \n",
       "5                                                                    No matching topic   \n",
       "8   love, kid, user, friendly, husband, enjoy, first, user friendly, buy tablet, thing   \n",
       "28  love, kid, user, friendly, husband, enjoy, first, user friendly, buy tablet, thing   \n",
       "34                                                                   No matching topic   \n",
       "37                                                                   No matching topic   \n",
       "41  love, kid, user, friendly, husband, enjoy, first, user friendly, buy tablet, thing   \n",
       "48                                                                   No matching topic   \n",
       "53                                                                   No matching topic   \n",
       "55                                                                   No matching topic   \n",
       "\n",
       "                                                                            Topic name  \n",
       "1                                                                    No matching topic  \n",
       "5                                                                    No matching topic  \n",
       "8   love, kid, user, friendly, husband, enjoy, first, user friendly, buy tablet, thing  \n",
       "28  love, kid, user, friendly, husband, enjoy, first, user friendly, buy tablet, thing  \n",
       "34                                                                   No matching topic  \n",
       "37                                                                   No matching topic  \n",
       "41  love, kid, user, friendly, husband, enjoy, first, user friendly, buy tablet, thing  \n",
       "48                                                                   No matching topic  \n",
       "53                                                                   No matching topic  \n",
       "55                                                                   No matching topic  "
      ]
     },
     "execution_count": 59,
     "metadata": {},
     "output_type": "execute_result"
    }
   ],
   "source": [
    "unmatchedmodel.head(10)"
   ]
  }
 ],
 "metadata": {
  "kernelspec": {
   "display_name": "Python 3",
   "language": "python",
   "name": "python3"
  },
  "language_info": {
   "codemirror_mode": {
    "name": "ipython",
    "version": 3
   },
   "file_extension": ".py",
   "mimetype": "text/x-python",
   "name": "python",
   "nbconvert_exporter": "python",
   "pygments_lexer": "ipython3",
   "version": "3.8.8"
  }
 },
 "nbformat": 4,
 "nbformat_minor": 5
}
